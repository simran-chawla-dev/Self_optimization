{
 "cells": [
  {
   "cell_type": "code",
   "execution_count": 1,
   "id": "cea04ffa",
   "metadata": {},
   "outputs": [],
   "source": [
    "# Don't forget to change the kernel!\n",
    "\n",
    "from ux import *"
   ]
  },
  {
   "cell_type": "code",
   "execution_count": 2,
   "id": "8b60a021",
   "metadata": {
    "scrolled": false
   },
   "outputs": [
    {
     "data": {
      "application/vnd.jupyter.widget-view+json": {
       "model_id": "01a2467978bc4b09a403bb3614373319",
       "version_major": 2,
       "version_minor": 0
      },
      "text/plain": [
       "App(children=[AppBar(app=False, children=[Btn(children=[Icon(children=['mdi-home'])], dark=True, text=True), T…"
      ]
     },
     "metadata": {},
     "output_type": "display_data"
    }
   ],
   "source": [
    "my_app = app(app_mode=True, debug=True)\n",
    "my_app.form"
   ]
  },
  {
   "cell_type": "code",
   "execution_count": 3,
   "id": "4111561b",
   "metadata": {},
   "outputs": [],
   "source": [
    "# Optional:\n",
    "# my_app.read_url_parameters()"
   ]
  }
 ],
 "metadata": {
  "hide_input": false,
  "kernelspec": {
   "display_name": "workflows/1.0",
   "language": "python",
   "name": "workflows_1.0"
  },
  "language_info": {
   "codemirror_mode": {
    "name": "ipython",
    "version": 3
   },
   "file_extension": ".py",
   "mimetype": "text/x-python",
   "name": "python",
   "nbconvert_exporter": "python",
   "pygments_lexer": "ipython3",
   "version": "3.9.7"
  }
 },
 "nbformat": 4,
 "nbformat_minor": 5
}
